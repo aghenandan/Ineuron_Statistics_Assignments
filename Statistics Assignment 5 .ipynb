{
 "cells": [
  {
   "cell_type": "markdown",
   "id": "a03dfb73",
   "metadata": {},
   "source": [
    "1. How are you going to figure out the average heights of all the trees in Karnataka?"
   ]
  },
  {
   "cell_type": "markdown",
   "id": "c775a5bf",
   "metadata": {},
   "source": [
    "Through Confidence Intervals"
   ]
  },
  {
   "cell_type": "markdown",
   "id": "4db5445c",
   "metadata": {},
   "source": [
    "2. What is hypothesis testing and how does it work?"
   ]
  },
  {
   "cell_type": "markdown",
   "id": "e561037c",
   "metadata": {},
   "source": [
    "Hypothesis Testing is a type of statistical analysis in which you put your assumptions about a population parameter to the test. It is used to estimate the relationship between 2 statistical variables.\n",
    "\n",
    "Through the framework of hypothesis testing, we can measure and reduce the frequency of errors over time. To use hypothesis testing when making comparisons, these steps are to be followed:\n",
    "\n",
    "If we can rule out no difference, then we can conclude there’s at least some difference between the variables.\n",
    "\n",
    "Collect data and compute the difference. \n",
    "\n",
    "Compute the p-value. \n",
    "\n",
    "Compare the p-value to alpha to determine statistical significance. \n",
    "\n",
    "If the p-value is less than the alpha criterion (typically .05), we conclude the difference is statistically significant. \n",
    "Otherwise, we withhold final judgment and can only say we failed to reject the Null Hypothesis."
   ]
  },
  {
   "cell_type": "markdown",
   "id": "445b1e22",
   "metadata": {},
   "source": [
    "3. Explain the differences between Alpha and Beta errors. Which inaccuracy is the most hazardous?"
   ]
  },
  {
   "cell_type": "markdown",
   "id": "1c2f6733",
   "metadata": {},
   "source": [
    "Alpha error occurs when the null hypothesis is erroneously rejected, and beta error occurs when the null hypothesis is wrongly retained.\n",
    "\n",
    "Alpha error is considered to be worse or more dangerous than Beta error because to reject what is true is more harmful than keeping the data that is not true."
   ]
  },
  {
   "cell_type": "markdown",
   "id": "4e53ede1",
   "metadata": {},
   "source": [
    "4. What is the significance of the p-value?"
   ]
  },
  {
   "cell_type": "markdown",
   "id": "6b0e036e",
   "metadata": {},
   "source": [
    "Given the null hypothesis is true, a p-value is the probability of getting a result as or more extreme than the sample result by random chance alone. If a p-value is lower than our significance level, we reject the null hypothesis. If not, we fail to reject the null hypothesis.\n"
   ]
  },
  {
   "cell_type": "markdown",
   "id": "0ffe791c",
   "metadata": {},
   "source": [
    "5. What is the Probability Distribution Function and how does it work?"
   ]
  },
  {
   "cell_type": "markdown",
   "id": "9f737488",
   "metadata": {},
   "source": [
    "a probability density function (PDF) is used to define the random variable's probability coming within a distinct range of values, as opposed to taking on any one value. The function explains the probability density function of normal distribution and how mean and deviation exists."
   ]
  },
  {
   "cell_type": "code",
   "execution_count": null,
   "id": "97042fd2",
   "metadata": {},
   "outputs": [],
   "source": []
  }
 ],
 "metadata": {
  "kernelspec": {
   "display_name": "Python 3 (ipykernel)",
   "language": "python",
   "name": "python3"
  },
  "language_info": {
   "codemirror_mode": {
    "name": "ipython",
    "version": 3
   },
   "file_extension": ".py",
   "mimetype": "text/x-python",
   "name": "python",
   "nbconvert_exporter": "python",
   "pygments_lexer": "ipython3",
   "version": "3.9.13"
  }
 },
 "nbformat": 4,
 "nbformat_minor": 5
}
