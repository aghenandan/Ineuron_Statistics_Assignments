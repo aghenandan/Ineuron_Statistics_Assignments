{
 "cells": [
  {
   "cell_type": "markdown",
   "id": "aeb79a71",
   "metadata": {},
   "source": [
    "1. What is the definition of covariance? Create the formula for it."
   ]
  },
  {
   "cell_type": "markdown",
   "id": "213ac19f",
   "metadata": {},
   "source": [
    "covariance is a measure of the relationship between two random variables. \n",
    "\n",
    "Positive covariance: Indicates that two variables tend to move in the same direction.\n",
    "    \n",
    "Negative covariance: Reveals that two variables tend to move in inverse directions.\n",
    "    \n",
    "The covariance between X and Y is defined as Cov(X,Y)=E[(X−EX)(Y−EY)]=E[XY]−(EX)(EY)."
   ]
  },
  {
   "cell_type": "markdown",
   "id": "b5ca1a93",
   "metadata": {},
   "source": [
    "2. What makes Correlations better than Covariance?"
   ]
  },
  {
   "cell_type": "markdown",
   "id": "2a6ccbcd",
   "metadata": {},
   "source": [
    "correlation is preferred over covariance because it does not get affected by the change in scale."
   ]
  },
  {
   "cell_type": "markdown",
   "id": "3ca8ec20",
   "metadata": {},
   "source": [
    "3. Explain the process as well as Pearson and Spearman Correlation."
   ]
  },
  {
   "cell_type": "markdown",
   "id": "f2edb076",
   "metadata": {},
   "source": [
    "Pearson correlation: Pearson correlation evaluates the linear relationship between two continuous variables. \n",
    "    \n",
    "Spearman correlation: Spearman correlation evaluates the monotonic relationship. \n",
    "        \n",
    "The Spearman correlation coefficient is based on the ranked values for each variable rather than the raw data."
   ]
  },
  {
   "cell_type": "markdown",
   "id": "2e1f0020",
   "metadata": {},
   "source": [
    "4. What are the advantages of Spearman Correlation over Pearson Correlation?"
   ]
  },
  {
   "cell_type": "markdown",
   "id": "8931e770",
   "metadata": {},
   "source": [
    "Spearman correlation better captures the relationship than Pearson. \n",
    "\n",
    "In case of two variables with a curvilinear, monotonic relationship, Spearman's correlation indicates a stronger relationship (rho has a higher absolute value) than Pearson's. In those cases, the curvilinear nature “confuses” Pearson's, and it underestimates the relationship's strength."
   ]
  },
  {
   "cell_type": "markdown",
   "id": "a86e8c41",
   "metadata": {},
   "source": [
    "5. Describe the Central Limit Theorem."
   ]
  },
  {
   "cell_type": "markdown",
   "id": "aff0979f",
   "metadata": {},
   "source": [
    "The central limit theorem says that the sampling distribution of the mean will always be normally distributed, as long as the sample size is large enough. Regardless of whether the population has a normal, Poisson, binomial, or any other distribution, the sampling distribution of the mean will be normal."
   ]
  },
  {
   "cell_type": "code",
   "execution_count": null,
   "id": "5bd0ef15",
   "metadata": {},
   "outputs": [],
   "source": []
  }
 ],
 "metadata": {
  "kernelspec": {
   "display_name": "Python 3 (ipykernel)",
   "language": "python",
   "name": "python3"
  },
  "language_info": {
   "codemirror_mode": {
    "name": "ipython",
    "version": 3
   },
   "file_extension": ".py",
   "mimetype": "text/x-python",
   "name": "python",
   "nbconvert_exporter": "python",
   "pygments_lexer": "ipython3",
   "version": "3.9.13"
  }
 },
 "nbformat": 4,
 "nbformat_minor": 5
}
