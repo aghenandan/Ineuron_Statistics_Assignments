{
 "cells": [
  {
   "cell_type": "markdown",
   "id": "afcf224e",
   "metadata": {},
   "source": [
    "1. What is a Cumulative Distribution Function, and how does it work?"
   ]
  },
  {
   "cell_type": "markdown",
   "id": "8b3bb5b3",
   "metadata": {},
   "source": [
    "The cumulative distribution function is used to describe the probability distribution of random variables. \n",
    "\n",
    "It can be used to describe the probability for a discrete, continuous or mixed variable. \n",
    "\n",
    "It is obtained by summing up the probability density function and getting the cumulative probability for a random variable."
   ]
  },
  {
   "cell_type": "markdown",
   "id": "1476090b",
   "metadata": {},
   "source": [
    "2. When should we use a t-test vs a z-test?"
   ]
  },
  {
   "cell_type": "markdown",
   "id": "32567650",
   "metadata": {},
   "source": [
    "\n",
    "If the population standard deviation is known, Z-test is recommended to be used. \n",
    "\n",
    "If the population standard deviation is unknown, T-test is recommended."
   ]
  },
  {
   "cell_type": "markdown",
   "id": "5121d16f",
   "metadata": {},
   "source": [
    "3. How do we examine two category characteristics?"
   ]
  },
  {
   "cell_type": "markdown",
   "id": "e07599b4",
   "metadata": {},
   "source": [
    "use ROC curve and AUC measure"
   ]
  },
  {
   "cell_type": "markdown",
   "id": "d28d1ddb",
   "metadata": {},
   "source": [
    "4. Explain the concept of Chebyshev's Inequality."
   ]
  },
  {
   "cell_type": "markdown",
   "id": "d13683db",
   "metadata": {},
   "source": [
    "Chebyshev's inequality states that within two standard deviations away from the mean contains 75% of the values, \n",
    "\n",
    "and within three standard deviations away from the mean contains 88.9% of the values. \n",
    "\n",
    "It holds for a wide range of probability distributions, not only the normal distribution."
   ]
  },
  {
   "cell_type": "markdown",
   "id": "8d328f3f",
   "metadata": {},
   "source": [
    "5. Explain the concept of Pareto Distribution."
   ]
  },
  {
   "cell_type": "markdown",
   "id": "a3bc7498",
   "metadata": {},
   "source": [
    "The Pareto principle, also known as the 80/20 rule, is a theory maintaining that 80 percent of the output from a given situation or system is determined by 20 percent of the input. "
   ]
  },
  {
   "cell_type": "code",
   "execution_count": null,
   "id": "799bd056",
   "metadata": {},
   "outputs": [],
   "source": []
  }
 ],
 "metadata": {
  "kernelspec": {
   "display_name": "Python 3 (ipykernel)",
   "language": "python",
   "name": "python3"
  },
  "language_info": {
   "codemirror_mode": {
    "name": "ipython",
    "version": 3
   },
   "file_extension": ".py",
   "mimetype": "text/x-python",
   "name": "python",
   "nbconvert_exporter": "python",
   "pygments_lexer": "ipython3",
   "version": "3.9.13"
  }
 },
 "nbformat": 4,
 "nbformat_minor": 5
}
