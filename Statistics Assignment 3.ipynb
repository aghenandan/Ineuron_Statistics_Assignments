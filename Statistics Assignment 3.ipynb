{
 "cells": [
  {
   "cell_type": "markdown",
   "id": "33eb1d2e",
   "metadata": {},
   "source": [
    "1. Write the Gaussian Distribution empirical formula."
   ]
  },
  {
   "cell_type": "markdown",
   "id": "8be0bc43",
   "metadata": {},
   "source": [
    "Empirical rule states that, in a normal distribution, 65%,95%,99.7% of all values lie within one, two or three standard deviations (denoted by σ) of the mean or average (denoted by µ)."
   ]
  },
  {
   "cell_type": "markdown",
   "id": "3c8f5c82",
   "metadata": {},
   "source": [
    "2. What is the Z-score, and why is it important?"
   ]
  },
  {
   "cell_type": "markdown",
   "id": "7329993d",
   "metadata": {},
   "source": [
    "The value of the z-score tells you how many standard deviations you are away from the mean. \n",
    "\n",
    "If a z-score is equal to 0, it is on the mean.\n",
    "\n",
    "The z-score \n",
    "\n",
    "(a) allows us to calculate the probability of a score occurring within our normal distribution and \n",
    "\n",
    "(b) enables us to compare two scores that are from different normal distributions."
   ]
  },
  {
   "cell_type": "markdown",
   "id": "a89185a7",
   "metadata": {},
   "source": [
    "3. What is an outlier, exactly?"
   ]
  },
  {
   "cell_type": "markdown",
   "id": "282fc455",
   "metadata": {},
   "source": [
    "Outliers are extreme values that differs substantially from the rest of the data."
   ]
  },
  {
   "cell_type": "markdown",
   "id": "24d3f7ca",
   "metadata": {},
   "source": [
    "4. What are our options for dealing with outliers in our dataset?"
   ]
  },
  {
   "cell_type": "markdown",
   "id": "c537566e",
   "metadata": {},
   "source": [
    "Detecting outliers\n",
    "\n",
    "Boxplots, Z-score, Inter Quantile Range(IQR)\n",
    "\n",
    "Handling Outliers\n",
    "\n",
    "1. Trimming/removing the outlier\n",
    "\n",
    "2. Quantile based flooring and capping\n",
    "\n",
    "3. Mean/Median imputation"
   ]
  },
  {
   "cell_type": "markdown",
   "id": "d96113a0",
   "metadata": {},
   "source": [
    "5. Write the sample and population variances equations and explain Bessel Correction."
   ]
  },
  {
   "cell_type": "markdown",
   "id": "b6f8e121",
   "metadata": {},
   "source": [
    "The formula for population variance is given as ∑Ni=1(xi−μ)2/N \n",
    "The formula for sample variance is given as ∑ni=1(xi−μ)2/n−1 "
   ]
  },
  {
   "cell_type": "markdown",
   "id": "e3b2fdcc",
   "metadata": {},
   "source": [
    "\n",
    "\n",
    "Bessel's correction or degree of freedom is the use of n − 1 instead of n in the formula for the sample variance and sample standard deviation,[1] where n is the number of observations in a sample. \n",
    "\n",
    "This method corrects the bias in the estimation of the population variance."
   ]
  },
  {
   "cell_type": "code",
   "execution_count": null,
   "id": "c1905fd7",
   "metadata": {},
   "outputs": [],
   "source": []
  }
 ],
 "metadata": {
  "kernelspec": {
   "display_name": "Python 3 (ipykernel)",
   "language": "python",
   "name": "python3"
  },
  "language_info": {
   "codemirror_mode": {
    "name": "ipython",
    "version": 3
   },
   "file_extension": ".py",
   "mimetype": "text/x-python",
   "name": "python",
   "nbconvert_exporter": "python",
   "pygments_lexer": "ipython3",
   "version": "3.9.13"
  }
 },
 "nbformat": 4,
 "nbformat_minor": 5
}
