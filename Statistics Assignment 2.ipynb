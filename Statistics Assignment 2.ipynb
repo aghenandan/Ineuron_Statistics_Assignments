{
 "cells": [
  {
   "cell_type": "markdown",
   "id": "642a35da",
   "metadata": {},
   "source": [
    "1. How can we figure out what the interquartile range is?"
   ]
  },
  {
   "cell_type": "markdown",
   "id": "757228bc",
   "metadata": {},
   "source": [
    "We can find the interquartile range or IQR in four simple steps:\n",
    "\n",
    "     1. Order the data from least to greatest. \n",
    "        \n",
    "     2. Find the median. \n",
    "    \n",
    "     3. Calculate the median of both the lower and upper half of the data.\n",
    "        \n",
    "     4. The IQR is the difference between the upper and lower medians."
   ]
  },
  {
   "cell_type": "markdown",
   "id": "ac0922ad",
   "metadata": {},
   "source": [
    "2. What exactly is the value of the 5-number theory?"
   ]
  },
  {
   "cell_type": "markdown",
   "id": "48d4a0e2",
   "metadata": {},
   "source": [
    "5-number theory consists of the maximum and minimum values, the lower and upper quartiles, and the median."
   ]
  },
  {
   "cell_type": "markdown",
   "id": "cd633fe0",
   "metadata": {},
   "source": [
    "3. What is the relationship between standard deviation and variance"
   ]
  },
  {
   "cell_type": "markdown",
   "id": "24e1542d",
   "metadata": {},
   "source": [
    "Variance is the average squared deviations from the mean, while standard deviation is the square root of this number. "
   ]
  },
  {
   "cell_type": "markdown",
   "id": "ee0ac46e",
   "metadata": {},
   "source": [
    "4. What does the difference between variance and standard deviation mean?"
   ]
  },
  {
   "cell_type": "markdown",
   "id": "9d37a675",
   "metadata": {},
   "source": [
    "Standard deviation measures how far apart numbers are in a data set. Variance, on the other hand, gives an actual value to how much the numbers in a data set vary from the mean."
   ]
  },
  {
   "cell_type": "markdown",
   "id": "89f69621",
   "metadata": {},
   "source": [
    "5. When is it appropriate to refer to a skewed data distribution?"
   ]
  },
  {
   "cell_type": "markdown",
   "id": "b84e1aed",
   "metadata": {},
   "source": [
    "Skewness is demonstrated on a bell curve when data points are not distributed symmetrically to the left and right sides of the median on a bell curve. If the bell curve is shifted to the left or the right, it is said to be skewed."
   ]
  },
  {
   "cell_type": "code",
   "execution_count": null,
   "id": "74d69ef3",
   "metadata": {},
   "outputs": [],
   "source": []
  }
 ],
 "metadata": {
  "kernelspec": {
   "display_name": "Python 3 (ipykernel)",
   "language": "python",
   "name": "python3"
  },
  "language_info": {
   "codemirror_mode": {
    "name": "ipython",
    "version": 3
   },
   "file_extension": ".py",
   "mimetype": "text/x-python",
   "name": "python",
   "nbconvert_exporter": "python",
   "pygments_lexer": "ipython3",
   "version": "3.9.13"
  }
 },
 "nbformat": 4,
 "nbformat_minor": 5
}
