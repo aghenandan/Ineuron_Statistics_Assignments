{
 "cells": [
  {
   "cell_type": "markdown",
   "id": "d39d2fee",
   "metadata": {},
   "source": [
    "1. What exactly is the difference between descriptive and inferential statistics?"
   ]
  },
  {
   "cell_type": "markdown",
   "id": "8d0a6170",
   "metadata": {},
   "source": [
    "Descriptive statistics is a term given to the analysis of data that helps to describe, show and summarize already known data. \n",
    "In inferential statistics, predictions are made by taking any group of data to describe and make inferences about the population.\n"
   ]
  },
  {
   "cell_type": "markdown",
   "id": "fc536875",
   "metadata": {},
   "source": [
    "2. I'm not sure what is the difference between a sample and a population?"
   ]
  },
  {
   "cell_type": "markdown",
   "id": "71204777",
   "metadata": {},
   "source": [
    "A population is the entire group that you want to draw conclusions about. \n",
    "A sample is the specific group that you will collect data from."
   ]
  },
  {
   "cell_type": "markdown",
   "id": "f9d47d3c",
   "metadata": {},
   "source": [
    "3. What distinguishes descriptive statistics from other types of statistics?"
   ]
  },
  {
   "cell_type": "markdown",
   "id": "47176bee",
   "metadata": {},
   "source": [
    "Descriptive statistics summarize the characteristics of a data set. Inferential statistics allow you to test a hypothesis or assess whether your data is generalizable to the broader population."
   ]
  },
  {
   "cell_type": "markdown",
   "id": "f8e92a97",
   "metadata": {},
   "source": [
    "4. What is the difference between quantitative and qualitative data?"
   ]
  },
  {
   "cell_type": "markdown",
   "id": "65b72916",
   "metadata": {},
   "source": [
    "Quantitative data is numbers-based, countable, or measurable. Qualitative or categorical data is interpretation-based, descriptive, and relating to language."
   ]
  },
  {
   "cell_type": "markdown",
   "id": "d9419335",
   "metadata": {},
   "source": [
    "5. What is the definition of a percentile?"
   ]
  },
  {
   "cell_type": "markdown",
   "id": "a8eb414a",
   "metadata": {},
   "source": [
    "A percentile indicates the value below which a given percentage of observations in a group of observations fall. "
   ]
  },
  {
   "cell_type": "code",
   "execution_count": null,
   "id": "e1ee8d19",
   "metadata": {},
   "outputs": [],
   "source": []
  }
 ],
 "metadata": {
  "kernelspec": {
   "display_name": "Python 3 (ipykernel)",
   "language": "python",
   "name": "python3"
  },
  "language_info": {
   "codemirror_mode": {
    "name": "ipython",
    "version": 3
   },
   "file_extension": ".py",
   "mimetype": "text/x-python",
   "name": "python",
   "nbconvert_exporter": "python",
   "pygments_lexer": "ipython3",
   "version": "3.9.13"
  }
 },
 "nbformat": 4,
 "nbformat_minor": 5
}
